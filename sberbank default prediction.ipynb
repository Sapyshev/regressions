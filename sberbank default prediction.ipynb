{
 "cells": [
  {
   "cell_type": "markdown",
   "metadata": {},
   "source": [
    "<b>Задание:</b> Необходиом разработать модель предсказания дефолта. Даны финансовые данные 32 395 компаний (выручка, активы, пассивы и т.д). Результат будет оцениваться на скрытой выборке из 200 компаний по метрике качества accuracy_score\n",
    "\n",
    "<b>Цель задания</b> научиться / показать знания в разработке моделей оценки риска - probability of default. Задание приближено к реальному, данные синтетические. Лидерборд для оценки собственного решения и геймификации процесса обучения. Первое место в лидерборде не явлется целью. Цель - правильно разарботанная модель, удовлетворяющая требованиям банковской системы. В случае возникновения вопросов, сотрудники блока Риски готовы проконсультировать и дать обратную связь на модель (телеграм чат).\n",
    "\n",
    "<b>Метрика качества</b> accuracy_score вычисляется, как ( True positive + True negative ) / Total. Если сабмит вайл, не праильного офрмата или неверное окличество строк, метрика будет = 0."
   ]
  },
  {
   "cell_type": "code",
   "execution_count": 15,
   "metadata": {},
   "outputs": [],
   "source": [
    "import pandas as pd\n",
    "from sklearn.metrics import f1_score\n",
    "from matplotlib import pyplot as plt\n",
    "import seaborn as sns\n",
    "from sklearn.preprocessing import StandardScaler\n",
    "from sklearn.model_selection import cross_val_score\n",
    "from sklearn.model_selection import train_test_split\n",
    "from sklearn.metrics import accuracy_score, roc_auc_score\n",
    "import numpy as np\n",
    "from sklearn.metrics import precision_recall_curve, classification_report\n",
    "from sklearn import preprocessing, datasets, metrics, tree \n",
    "import lightgbm as lgb\n",
    "from catboost import CatBoostClassifier\n",
    "from catboost import CatBoostRegressor\n",
    "from featexp import get_univariate_plots"
   ]
  },
  {
   "cell_type": "code",
   "execution_count": 267,
   "metadata": {},
   "outputs": [],
   "source": [
    "#загрузка данных\n",
    "train = pd.read_csv('PD-data-train.csv', sep=';')\n",
    "test = pd.read_csv('PD-data-test.csv', sep=';')\n",
    "desc = pd.read_csv('PD-data-desc.csv', sep=';')"
   ]
  },
  {
   "cell_type": "code",
   "execution_count": 268,
   "metadata": {},
   "outputs": [
    {
     "data": {
      "text/html": [
       "<div>\n",
       "<style scoped>\n",
       "    .dataframe tbody tr th:only-of-type {\n",
       "        vertical-align: middle;\n",
       "    }\n",
       "\n",
       "    .dataframe tbody tr th {\n",
       "        vertical-align: top;\n",
       "    }\n",
       "\n",
       "    .dataframe thead th {\n",
       "        text-align: right;\n",
       "    }\n",
       "</style>\n",
       "<table border=\"1\" class=\"dataframe\">\n",
       "  <thead>\n",
       "    <tr style=\"text-align: right;\">\n",
       "      <th></th>\n",
       "      <th>record_id</th>\n",
       "      <th>ar_revenue</th>\n",
       "      <th>ar_total_expenses</th>\n",
       "      <th>ar_sale_cost</th>\n",
       "      <th>ar_selling_expenses</th>\n",
       "      <th>ar_management_expenses</th>\n",
       "      <th>ar_sale_profit</th>\n",
       "      <th>ar_balance_of_rvns_and_expns</th>\n",
       "      <th>ar_profit_before_tax</th>\n",
       "      <th>ar_taxes</th>\n",
       "      <th>...</th>\n",
       "      <th>adr_actual_age</th>\n",
       "      <th>head_actual_age</th>\n",
       "      <th>cap_actual_age</th>\n",
       "      <th>ul_staff_range</th>\n",
       "      <th>ul_capital_sum</th>\n",
       "      <th>ul_founders_cnt</th>\n",
       "      <th>ul_branch_cnt</th>\n",
       "      <th>ul_strategic_flg</th>\n",
       "      <th>ul_systematizing_flg</th>\n",
       "      <th>default_12m</th>\n",
       "    </tr>\n",
       "  </thead>\n",
       "  <tbody>\n",
       "    <tr>\n",
       "      <th>0</th>\n",
       "      <td>7</td>\n",
       "      <td>52996000.0</td>\n",
       "      <td>48344000.0</td>\n",
       "      <td>48344000.0</td>\n",
       "      <td>0.0</td>\n",
       "      <td>0.0</td>\n",
       "      <td>4652000.0</td>\n",
       "      <td>-2608000.0</td>\n",
       "      <td>2044000.0</td>\n",
       "      <td>846000.0</td>\n",
       "      <td>...</td>\n",
       "      <td>3</td>\n",
       "      <td>3</td>\n",
       "      <td>3</td>\n",
       "      <td>[1-100]</td>\n",
       "      <td>50000.0</td>\n",
       "      <td>2</td>\n",
       "      <td>0</td>\n",
       "      <td>0</td>\n",
       "      <td>0</td>\n",
       "      <td>0</td>\n",
       "    </tr>\n",
       "    <tr>\n",
       "      <th>1</th>\n",
       "      <td>13</td>\n",
       "      <td>NaN</td>\n",
       "      <td>NaN</td>\n",
       "      <td>NaN</td>\n",
       "      <td>NaN</td>\n",
       "      <td>NaN</td>\n",
       "      <td>NaN</td>\n",
       "      <td>NaN</td>\n",
       "      <td>NaN</td>\n",
       "      <td>NaN</td>\n",
       "      <td>...</td>\n",
       "      <td>12</td>\n",
       "      <td>12</td>\n",
       "      <td>12</td>\n",
       "      <td>[1-100]</td>\n",
       "      <td>10000.0</td>\n",
       "      <td>5</td>\n",
       "      <td>0</td>\n",
       "      <td>0</td>\n",
       "      <td>0</td>\n",
       "      <td>0</td>\n",
       "    </tr>\n",
       "    <tr>\n",
       "      <th>2</th>\n",
       "      <td>18</td>\n",
       "      <td>NaN</td>\n",
       "      <td>NaN</td>\n",
       "      <td>NaN</td>\n",
       "      <td>NaN</td>\n",
       "      <td>NaN</td>\n",
       "      <td>NaN</td>\n",
       "      <td>NaN</td>\n",
       "      <td>NaN</td>\n",
       "      <td>NaN</td>\n",
       "      <td>...</td>\n",
       "      <td>28</td>\n",
       "      <td>28</td>\n",
       "      <td>28</td>\n",
       "      <td>[1-100]</td>\n",
       "      <td>10000.0</td>\n",
       "      <td>2</td>\n",
       "      <td>0</td>\n",
       "      <td>0</td>\n",
       "      <td>0</td>\n",
       "      <td>0</td>\n",
       "    </tr>\n",
       "    <tr>\n",
       "      <th>3</th>\n",
       "      <td>22</td>\n",
       "      <td>32049000.0</td>\n",
       "      <td>29568000.0</td>\n",
       "      <td>29568000.0</td>\n",
       "      <td>0.0</td>\n",
       "      <td>0.0</td>\n",
       "      <td>2481000.0</td>\n",
       "      <td>-260000.0</td>\n",
       "      <td>2221000.0</td>\n",
       "      <td>302000.0</td>\n",
       "      <td>...</td>\n",
       "      <td>8</td>\n",
       "      <td>8</td>\n",
       "      <td>8</td>\n",
       "      <td>[1-100]</td>\n",
       "      <td>300000.0</td>\n",
       "      <td>1</td>\n",
       "      <td>0</td>\n",
       "      <td>0</td>\n",
       "      <td>0</td>\n",
       "      <td>0</td>\n",
       "    </tr>\n",
       "    <tr>\n",
       "      <th>4</th>\n",
       "      <td>23</td>\n",
       "      <td>16458000.0</td>\n",
       "      <td>14935000.0</td>\n",
       "      <td>14935000.0</td>\n",
       "      <td>0.0</td>\n",
       "      <td>0.0</td>\n",
       "      <td>1523000.0</td>\n",
       "      <td>-274000.0</td>\n",
       "      <td>1249000.0</td>\n",
       "      <td>538000.0</td>\n",
       "      <td>...</td>\n",
       "      <td>27</td>\n",
       "      <td>27</td>\n",
       "      <td>27</td>\n",
       "      <td>[1-100]</td>\n",
       "      <td>10000.0</td>\n",
       "      <td>2</td>\n",
       "      <td>0</td>\n",
       "      <td>0</td>\n",
       "      <td>0</td>\n",
       "      <td>0</td>\n",
       "    </tr>\n",
       "  </tbody>\n",
       "</table>\n",
       "<p>5 rows × 37 columns</p>\n",
       "</div>"
      ],
      "text/plain": [
       "   record_id  ar_revenue  ar_total_expenses  ar_sale_cost  \\\n",
       "0          7  52996000.0         48344000.0    48344000.0   \n",
       "1         13         NaN                NaN           NaN   \n",
       "2         18         NaN                NaN           NaN   \n",
       "3         22  32049000.0         29568000.0    29568000.0   \n",
       "4         23  16458000.0         14935000.0    14935000.0   \n",
       "\n",
       "   ar_selling_expenses  ar_management_expenses  ar_sale_profit  \\\n",
       "0                  0.0                     0.0       4652000.0   \n",
       "1                  NaN                     NaN             NaN   \n",
       "2                  NaN                     NaN             NaN   \n",
       "3                  0.0                     0.0       2481000.0   \n",
       "4                  0.0                     0.0       1523000.0   \n",
       "\n",
       "   ar_balance_of_rvns_and_expns  ar_profit_before_tax  ar_taxes  ...  \\\n",
       "0                    -2608000.0             2044000.0  846000.0  ...   \n",
       "1                           NaN                   NaN       NaN  ...   \n",
       "2                           NaN                   NaN       NaN  ...   \n",
       "3                     -260000.0             2221000.0  302000.0  ...   \n",
       "4                     -274000.0             1249000.0  538000.0  ...   \n",
       "\n",
       "   adr_actual_age  head_actual_age  cap_actual_age  ul_staff_range  \\\n",
       "0               3                3               3         [1-100]   \n",
       "1              12               12              12         [1-100]   \n",
       "2              28               28              28         [1-100]   \n",
       "3               8                8               8         [1-100]   \n",
       "4              27               27              27         [1-100]   \n",
       "\n",
       "   ul_capital_sum  ul_founders_cnt  ul_branch_cnt  ul_strategic_flg  \\\n",
       "0         50000.0                2              0                 0   \n",
       "1         10000.0                5              0                 0   \n",
       "2         10000.0                2              0                 0   \n",
       "3        300000.0                1              0                 0   \n",
       "4         10000.0                2              0                 0   \n",
       "\n",
       "   ul_systematizing_flg  default_12m  \n",
       "0                     0            0  \n",
       "1                     0            0  \n",
       "2                     0            0  \n",
       "3                     0            0  \n",
       "4                     0            0  \n",
       "\n",
       "[5 rows x 37 columns]"
      ]
     },
     "execution_count": 268,
     "metadata": {},
     "output_type": "execute_result"
    }
   ],
   "source": [
    "train.head()"
   ]
  },
  {
   "cell_type": "markdown",
   "metadata": {},
   "source": [
    "### Объединение трейн и тест данных с пропусками и без"
   ]
  },
  {
   "cell_type": "markdown",
   "metadata": {},
   "source": [
    "#### Работа с полными данными"
   ]
  },
  {
   "cell_type": "raw",
   "metadata": {},
   "source": [
    "train_full = train.dropna()\n",
    "test_full = test.dropna()"
   ]
  },
  {
   "cell_type": "raw",
   "metadata": {},
   "source": [
    "train_full_y = train_full[\"default_12m\"]\n",
    "train_full = train_full.drop('default_12m', axis=1)"
   ]
  },
  {
   "cell_type": "raw",
   "metadata": {},
   "source": [
    "train_full.shape, test_full.shape"
   ]
  },
  {
   "cell_type": "raw",
   "metadata": {},
   "source": [
    "data_full = pd.concat([train_full, test_full], ignore_index=True)"
   ]
  },
  {
   "cell_type": "raw",
   "metadata": {},
   "source": [
    "data_full.iloc[:,1:25] = data_full.iloc[:,1:25]+1"
   ]
  },
  {
   "cell_type": "raw",
   "metadata": {},
   "source": [
    "train_full.head()"
   ]
  },
  {
   "cell_type": "markdown",
   "metadata": {},
   "source": [
    "#### Работа с неполными данными"
   ]
  },
  {
   "cell_type": "code",
   "execution_count": 269,
   "metadata": {},
   "outputs": [],
   "source": [
    "train_null = train.dropna(axis='columns')\n",
    "train_null = train_null.loc[~train_null.index.isin(train_full.index)]"
   ]
  },
  {
   "cell_type": "code",
   "execution_count": 270,
   "metadata": {},
   "outputs": [
    {
     "data": {
      "text/html": [
       "<div>\n",
       "<style scoped>\n",
       "    .dataframe tbody tr th:only-of-type {\n",
       "        vertical-align: middle;\n",
       "    }\n",
       "\n",
       "    .dataframe tbody tr th {\n",
       "        vertical-align: top;\n",
       "    }\n",
       "\n",
       "    .dataframe thead th {\n",
       "        text-align: right;\n",
       "    }\n",
       "</style>\n",
       "<table border=\"1\" class=\"dataframe\">\n",
       "  <thead>\n",
       "    <tr style=\"text-align: right;\">\n",
       "      <th></th>\n",
       "      <th>record_id</th>\n",
       "      <th>bus_age</th>\n",
       "      <th>ogrn_age</th>\n",
       "      <th>adr_actual_age</th>\n",
       "      <th>head_actual_age</th>\n",
       "      <th>cap_actual_age</th>\n",
       "      <th>ul_staff_range</th>\n",
       "      <th>ul_capital_sum</th>\n",
       "      <th>ul_founders_cnt</th>\n",
       "      <th>ul_branch_cnt</th>\n",
       "      <th>ul_strategic_flg</th>\n",
       "      <th>ul_systematizing_flg</th>\n",
       "      <th>default_12m</th>\n",
       "    </tr>\n",
       "  </thead>\n",
       "  <tbody>\n",
       "    <tr>\n",
       "      <th>1</th>\n",
       "      <td>13</td>\n",
       "      <td>256</td>\n",
       "      <td>135</td>\n",
       "      <td>12</td>\n",
       "      <td>12</td>\n",
       "      <td>12</td>\n",
       "      <td>[1-100]</td>\n",
       "      <td>10000.0</td>\n",
       "      <td>5</td>\n",
       "      <td>0</td>\n",
       "      <td>0</td>\n",
       "      <td>0</td>\n",
       "      <td>0</td>\n",
       "    </tr>\n",
       "    <tr>\n",
       "      <th>2</th>\n",
       "      <td>18</td>\n",
       "      <td>33</td>\n",
       "      <td>33</td>\n",
       "      <td>28</td>\n",
       "      <td>28</td>\n",
       "      <td>28</td>\n",
       "      <td>[1-100]</td>\n",
       "      <td>10000.0</td>\n",
       "      <td>2</td>\n",
       "      <td>0</td>\n",
       "      <td>0</td>\n",
       "      <td>0</td>\n",
       "      <td>0</td>\n",
       "    </tr>\n",
       "    <tr>\n",
       "      <th>5</th>\n",
       "      <td>24</td>\n",
       "      <td>100</td>\n",
       "      <td>100</td>\n",
       "      <td>5</td>\n",
       "      <td>5</td>\n",
       "      <td>5</td>\n",
       "      <td>[1-100]</td>\n",
       "      <td>350000.0</td>\n",
       "      <td>1</td>\n",
       "      <td>0</td>\n",
       "      <td>0</td>\n",
       "      <td>0</td>\n",
       "      <td>0</td>\n",
       "    </tr>\n",
       "    <tr>\n",
       "      <th>6</th>\n",
       "      <td>30</td>\n",
       "      <td>266</td>\n",
       "      <td>27</td>\n",
       "      <td>7</td>\n",
       "      <td>7</td>\n",
       "      <td>7</td>\n",
       "      <td>[1-100]</td>\n",
       "      <td>35000.0</td>\n",
       "      <td>3</td>\n",
       "      <td>0</td>\n",
       "      <td>0</td>\n",
       "      <td>0</td>\n",
       "      <td>0</td>\n",
       "    </tr>\n",
       "    <tr>\n",
       "      <th>7</th>\n",
       "      <td>37</td>\n",
       "      <td>31</td>\n",
       "      <td>31</td>\n",
       "      <td>30</td>\n",
       "      <td>30</td>\n",
       "      <td>30</td>\n",
       "      <td>[1-100]</td>\n",
       "      <td>10000.0</td>\n",
       "      <td>2</td>\n",
       "      <td>0</td>\n",
       "      <td>0</td>\n",
       "      <td>0</td>\n",
       "      <td>0</td>\n",
       "    </tr>\n",
       "  </tbody>\n",
       "</table>\n",
       "</div>"
      ],
      "text/plain": [
       "   record_id  bus_age  ogrn_age  adr_actual_age  head_actual_age  \\\n",
       "1         13      256       135              12               12   \n",
       "2         18       33        33              28               28   \n",
       "5         24      100       100               5                5   \n",
       "6         30      266        27               7                7   \n",
       "7         37       31        31              30               30   \n",
       "\n",
       "   cap_actual_age ul_staff_range  ul_capital_sum  ul_founders_cnt  \\\n",
       "1              12        [1-100]         10000.0                5   \n",
       "2              28        [1-100]         10000.0                2   \n",
       "5               5        [1-100]        350000.0                1   \n",
       "6               7        [1-100]         35000.0                3   \n",
       "7              30        [1-100]         10000.0                2   \n",
       "\n",
       "   ul_branch_cnt  ul_strategic_flg  ul_systematizing_flg  default_12m  \n",
       "1              0                 0                     0            0  \n",
       "2              0                 0                     0            0  \n",
       "5              0                 0                     0            0  \n",
       "6              0                 0                     0            0  \n",
       "7              0                 0                     0            0  "
      ]
     },
     "execution_count": 270,
     "metadata": {},
     "output_type": "execute_result"
    }
   ],
   "source": [
    "train_null.head()"
   ]
  },
  {
   "cell_type": "code",
   "execution_count": 271,
   "metadata": {},
   "outputs": [
    {
     "name": "stdout",
     "output_type": "stream",
     "text": [
      "                                          Plots for ogrn_age                                          \n"
     ]
    },
    {
     "data": {
      "image/png": "[encoded data removed]",
      "text/plain": [
       "<Figure size 864x360 with 2 Axes>"
      ]
     },
     "metadata": {
      "needs_background": "light"
     },
     "output_type": "display_data"
    },
    {
     "name": "stdout",
     "output_type": "stream",
     "text": [
      "--------------------------------------------------------------------------------------------------------------\n",
      "\n",
      "\n"
     ]
    }
   ],
   "source": [
    "get_univariate_plots(data=train_null, target_col='default_12m', \n",
    "                     features_list=['ogrn_age'], bins=20)"
   ]
  },
  {
   "cell_type": "code",
   "execution_count": 273,
   "metadata": {},
   "outputs": [
    {
     "name": "stdout",
     "output_type": "stream",
     "text": [
      "                                       Plots for ul_capital_sum                                       \n"
     ]
    },
    {
     "data": {
      "image/png": "[encoded data removed]",
      "text/plain": [
       "<Figure size 864x360 with 2 Axes>"
      ]
     },
     "metadata": {
      "needs_background": "light"
     },
     "output_type": "display_data"
    },
    {
     "name": "stdout",
     "output_type": "stream",
     "text": [
      "--------------------------------------------------------------------------------------------------------------\n",
      "\n",
      "\n"
     ]
    }
   ],
   "source": [
    "get_univariate_plots(data=train_null, target_col='default_12m', \n",
    "                     features_list=['ul_capital_sum'], bins=10)"
   ]
  },
  {
   "cell_type": "code",
   "execution_count": 274,
   "metadata": {},
   "outputs": [
    {
     "name": "stdout",
     "output_type": "stream",
     "text": [
      "                                          Plots for bus_age                                           \n"
     ]
    },
    {
     "data": {
      "image/png": "[encoded data removed]",
      "text/plain": [
       "<Figure size 864x360 with 2 Axes>"
      ]
     },
     "metadata": {
      "needs_background": "light"
     },
     "output_type": "display_data"
    },
    {
     "name": "stdout",
     "output_type": "stream",
     "text": [
      "--------------------------------------------------------------------------------------------------------------\n",
      "\n",
      "\n"
     ]
    }
   ],
   "source": [
    "get_univariate_plots(data=train_null, target_col='default_12m', \n",
    "                     features_list=['bus_age'], bins=10)"
   ]
  },
  {
   "cell_type": "code",
   "execution_count": 277,
   "metadata": {},
   "outputs": [
    {
     "name": "stdout",
     "output_type": "stream",
     "text": [
      "                                       Plots for adr_actual_age                                       \n"
     ]
    },
    {
     "data": {
      "image/png": "[encoded data removed]",
      "text/plain": [
       "<Figure size 864x360 with 2 Axes>"
      ]
     },
     "metadata": {
      "needs_background": "light"
     },
     "output_type": "display_data"
    },
    {
     "name": "stdout",
     "output_type": "stream",
     "text": [
      "--------------------------------------------------------------------------------------------------------------\n",
      "\n",
      "\n"
     ]
    }
   ],
   "source": [
    "get_univariate_plots(data=train_null, target_col='default_12m', \n",
    "                     features_list=['adr_actual_age'], bins=3)"
   ]
  },
  {
   "cell_type": "code",
   "execution_count": 278,
   "metadata": {},
   "outputs": [],
   "source": [
    "test_null = test.dropna(axis='columns')\n",
    "test_null = test_null.loc[~test_null.index.isin(test_full.index)]"
   ]
  },
  {
   "cell_type": "code",
   "execution_count": 279,
   "metadata": {},
   "outputs": [],
   "source": [
    "train_null_y = train_null['default_12m']\n",
    "train_null = train_null.drop(['default_12m'], axis=1)"
   ]
  },
  {
   "cell_type": "code",
   "execution_count": 280,
   "metadata": {},
   "outputs": [
    {
     "data": {
      "text/plain": [
       "((15145, 12), (118, 12))"
      ]
     },
     "execution_count": 280,
     "metadata": {},
     "output_type": "execute_result"
    }
   ],
   "source": [
    "train_null.shape, test_null.shape"
   ]
  },
  {
   "cell_type": "code",
   "execution_count": 281,
   "metadata": {},
   "outputs": [],
   "source": [
    "data_null_d = pd.concat([train_null, test_null], ignore_index=True)"
   ]
  },
  {
   "cell_type": "markdown",
   "metadata": {},
   "source": [
    "#### Формирование переменных для полных данных"
   ]
  },
  {
   "cell_type": "raw",
   "metadata": {},
   "source": [
    "data_full['rosf'] = data_full['ar_profit_before_tax']/data_full['ul_capital_sum']\n",
    "data_full['roce'] = data_full['ar_profit_before_tax']/(data_full['ul_capital_sum'] + data_full['ab_long_term_liabilities'])\n",
    "data_full['rota'] = data_full['ar_profit_before_tax']/data_full['ab_mobile_current_assets'] + data_full['ab_other_current_assets']\n",
    "+ data_full['ab_cash_and_securities']\n",
    "data_full['pm'] = data_full['ar_profit_before_tax']/data_full['ar_revenue']\n",
    "data_full['ebitm'] = data_full['ar_net_profit']/data_full['ar_revenue']\n",
    "data_full['nat'] = data_full['ar_revenue']/(data_full['ul_capital_sum'] + data_full['ab_long_term_liabilities'])\n",
    "data_full['ic'] = data_full['ar_profit_before_tax']/data_full['ab_short_term_borrowing']\n",
    "data_full['cr'] = (data_full['ab_mobile_current_assets'] + data_full['ab_other_current_assets'])/ data_full['ab_short_term_borrowing']\n",
    "data_full['sr'] = data_full['ul_capital_sum']/ data_full['ab_own_capital']\n",
    "data_full['roe'] = data_full['ar_net_profit']/data_full['ab_own_capital']\n",
    "data_full['roa'] = data_full['ar_net_profit']/data_full['ab_mobile_current_assets']\n",
    "data_full['edr'] = data_full['ab_own_capital']/(data_full['ab_long_term_liabilities'] + data_full['ab_short_term_borrowing'])"
   ]
  },
  {
   "cell_type": "raw",
   "metadata": {},
   "source": [
    "data_full = data_full.drop(['record_id', 'ul_strategic_flg', 'ul_systematizing_flg', 'bus_age', 'ul_branch_cnt', 'head_actual_age', 'cap_actual_age'], axis = 1)"
   ]
  },
  {
   "cell_type": "raw",
   "metadata": {},
   "source": [
    "data_full.corr()"
   ]
  },
  {
   "cell_type": "markdown",
   "metadata": {},
   "source": [
    "#### Формирование переменных для неполных данных"
   ]
  },
  {
   "cell_type": "code",
   "execution_count": 333,
   "metadata": {},
   "outputs": [],
   "source": [
    "data_null = data_null_d.drop(['record_id', 'bus_age', 'ul_strategic_flg', 'ul_systematizing_flg'], axis = 1)"
   ]
  },
  {
   "cell_type": "code",
   "execution_count": 334,
   "metadata": {},
   "outputs": [
    {
     "data": {
      "text/html": [
       "<div>\n",
       "<style scoped>\n",
       "    .dataframe tbody tr th:only-of-type {\n",
       "        vertical-align: middle;\n",
       "    }\n",
       "\n",
       "    .dataframe tbody tr th {\n",
       "        vertical-align: top;\n",
       "    }\n",
       "\n",
       "    .dataframe thead th {\n",
       "        text-align: right;\n",
       "    }\n",
       "</style>\n",
       "<table border=\"1\" class=\"dataframe\">\n",
       "  <thead>\n",
       "    <tr style=\"text-align: right;\">\n",
       "      <th></th>\n",
       "      <th>ogrn_age</th>\n",
       "      <th>adr_actual_age</th>\n",
       "      <th>head_actual_age</th>\n",
       "      <th>cap_actual_age</th>\n",
       "      <th>ul_staff_range</th>\n",
       "      <th>ul_capital_sum</th>\n",
       "      <th>ul_founders_cnt</th>\n",
       "      <th>ul_branch_cnt</th>\n",
       "    </tr>\n",
       "  </thead>\n",
       "  <tbody>\n",
       "    <tr>\n",
       "      <th>0</th>\n",
       "      <td>135</td>\n",
       "      <td>12</td>\n",
       "      <td>12</td>\n",
       "      <td>12</td>\n",
       "      <td>[1-100]</td>\n",
       "      <td>10000.0</td>\n",
       "      <td>5</td>\n",
       "      <td>0</td>\n",
       "    </tr>\n",
       "    <tr>\n",
       "      <th>1</th>\n",
       "      <td>33</td>\n",
       "      <td>28</td>\n",
       "      <td>28</td>\n",
       "      <td>28</td>\n",
       "      <td>[1-100]</td>\n",
       "      <td>10000.0</td>\n",
       "      <td>2</td>\n",
       "      <td>0</td>\n",
       "    </tr>\n",
       "    <tr>\n",
       "      <th>2</th>\n",
       "      <td>100</td>\n",
       "      <td>5</td>\n",
       "      <td>5</td>\n",
       "      <td>5</td>\n",
       "      <td>[1-100]</td>\n",
       "      <td>350000.0</td>\n",
       "      <td>1</td>\n",
       "      <td>0</td>\n",
       "    </tr>\n",
       "    <tr>\n",
       "      <th>3</th>\n",
       "      <td>27</td>\n",
       "      <td>7</td>\n",
       "      <td>7</td>\n",
       "      <td>7</td>\n",
       "      <td>[1-100]</td>\n",
       "      <td>35000.0</td>\n",
       "      <td>3</td>\n",
       "      <td>0</td>\n",
       "    </tr>\n",
       "    <tr>\n",
       "      <th>4</th>\n",
       "      <td>31</td>\n",
       "      <td>30</td>\n",
       "      <td>30</td>\n",
       "      <td>30</td>\n",
       "      <td>[1-100]</td>\n",
       "      <td>10000.0</td>\n",
       "      <td>2</td>\n",
       "      <td>0</td>\n",
       "    </tr>\n",
       "  </tbody>\n",
       "</table>\n",
       "</div>"
      ],
      "text/plain": [
       "   ogrn_age  adr_actual_age  head_actual_age  cap_actual_age ul_staff_range  \\\n",
       "0       135              12               12              12        [1-100]   \n",
       "1        33              28               28              28        [1-100]   \n",
       "2       100               5                5               5        [1-100]   \n",
       "3        27               7                7               7        [1-100]   \n",
       "4        31              30               30              30        [1-100]   \n",
       "\n",
       "   ul_capital_sum  ul_founders_cnt  ul_branch_cnt  \n",
       "0         10000.0                5              0  \n",
       "1         10000.0                2              0  \n",
       "2        350000.0                1              0  \n",
       "3         35000.0                3              0  \n",
       "4         10000.0                2              0  "
      ]
     },
     "execution_count": 334,
     "metadata": {},
     "output_type": "execute_result"
    }
   ],
   "source": [
    "data_null.head()"
   ]
  },
  {
   "cell_type": "code",
   "execution_count": 335,
   "metadata": {},
   "outputs": [],
   "source": [
    "data_null.loc[data_null.ogrn_age <= 45, 'ogrn_age_cat'] = 'young'\n",
    "data_null.loc[data_null.ogrn_age > 45, 'ogrn_age_cat'] = 'old'"
   ]
  },
  {
   "cell_type": "code",
   "execution_count": 336,
   "metadata": {},
   "outputs": [],
   "source": [
    "data_null.loc[data_null.adr_actual_age <= 8, 'actual_cat'] = 'small'\n",
    "data_null.loc[(data_null.adr_actual_age > 8) & (data_null.adr_actual_age <= 20), 'actual_cat'] = 'Afternoon'\n",
    "data_null.loc[data_null.adr_actual_age > 20, 'actual_cat'] = 'big'"
   ]
  },
  {
   "cell_type": "code",
   "execution_count": 337,
   "metadata": {},
   "outputs": [
    {
     "data": {
      "text/html": [
       "<div>\n",
       "<style scoped>\n",
       "    .dataframe tbody tr th:only-of-type {\n",
       "        vertical-align: middle;\n",
       "    }\n",
       "\n",
       "    .dataframe tbody tr th {\n",
       "        vertical-align: top;\n",
       "    }\n",
       "\n",
       "    .dataframe thead th {\n",
       "        text-align: right;\n",
       "    }\n",
       "</style>\n",
       "<table border=\"1\" class=\"dataframe\">\n",
       "  <thead>\n",
       "    <tr style=\"text-align: right;\">\n",
       "      <th></th>\n",
       "      <th>ogrn_age</th>\n",
       "      <th>adr_actual_age</th>\n",
       "      <th>head_actual_age</th>\n",
       "      <th>cap_actual_age</th>\n",
       "      <th>ul_staff_range</th>\n",
       "      <th>ul_capital_sum</th>\n",
       "      <th>ul_founders_cnt</th>\n",
       "      <th>ul_branch_cnt</th>\n",
       "      <th>ogrn_age_cat</th>\n",
       "      <th>actual_cat</th>\n",
       "    </tr>\n",
       "  </thead>\n",
       "  <tbody>\n",
       "    <tr>\n",
       "      <th>0</th>\n",
       "      <td>135</td>\n",
       "      <td>12</td>\n",
       "      <td>12</td>\n",
       "      <td>12</td>\n",
       "      <td>[1-100]</td>\n",
       "      <td>10000.0</td>\n",
       "      <td>5</td>\n",
       "      <td>0</td>\n",
       "      <td>old</td>\n",
       "      <td>Afternoon</td>\n",
       "    </tr>\n",
       "    <tr>\n",
       "      <th>1</th>\n",
       "      <td>33</td>\n",
       "      <td>28</td>\n",
       "      <td>28</td>\n",
       "      <td>28</td>\n",
       "      <td>[1-100]</td>\n",
       "      <td>10000.0</td>\n",
       "      <td>2</td>\n",
       "      <td>0</td>\n",
       "      <td>young</td>\n",
       "      <td>big</td>\n",
       "    </tr>\n",
       "    <tr>\n",
       "      <th>2</th>\n",
       "      <td>100</td>\n",
       "      <td>5</td>\n",
       "      <td>5</td>\n",
       "      <td>5</td>\n",
       "      <td>[1-100]</td>\n",
       "      <td>350000.0</td>\n",
       "      <td>1</td>\n",
       "      <td>0</td>\n",
       "      <td>old</td>\n",
       "      <td>small</td>\n",
       "    </tr>\n",
       "    <tr>\n",
       "      <th>3</th>\n",
       "      <td>27</td>\n",
       "      <td>7</td>\n",
       "      <td>7</td>\n",
       "      <td>7</td>\n",
       "      <td>[1-100]</td>\n",
       "      <td>35000.0</td>\n",
       "      <td>3</td>\n",
       "      <td>0</td>\n",
       "      <td>young</td>\n",
       "      <td>small</td>\n",
       "    </tr>\n",
       "    <tr>\n",
       "      <th>4</th>\n",
       "      <td>31</td>\n",
       "      <td>30</td>\n",
       "      <td>30</td>\n",
       "      <td>30</td>\n",
       "      <td>[1-100]</td>\n",
       "      <td>10000.0</td>\n",
       "      <td>2</td>\n",
       "      <td>0</td>\n",
       "      <td>young</td>\n",
       "      <td>big</td>\n",
       "    </tr>\n",
       "  </tbody>\n",
       "</table>\n",
       "</div>"
      ],
      "text/plain": [
       "   ogrn_age  adr_actual_age  head_actual_age  cap_actual_age ul_staff_range  \\\n",
       "0       135              12               12              12        [1-100]   \n",
       "1        33              28               28              28        [1-100]   \n",
       "2       100               5                5               5        [1-100]   \n",
       "3        27               7                7               7        [1-100]   \n",
       "4        31              30               30              30        [1-100]   \n",
       "\n",
       "   ul_capital_sum  ul_founders_cnt  ul_branch_cnt ogrn_age_cat actual_cat  \n",
       "0         10000.0                5              0          old  Afternoon  \n",
       "1         10000.0                2              0        young        big  \n",
       "2        350000.0                1              0          old      small  \n",
       "3         35000.0                3              0        young      small  \n",
       "4         10000.0                2              0        young        big  "
      ]
     },
     "execution_count": 337,
     "metadata": {},
     "output_type": "execute_result"
    }
   ],
   "source": [
    "data_null.head()"
   ]
  },
  {
   "cell_type": "markdown",
   "metadata": {},
   "source": [
    "#### Построение базовой модели для полных данных"
   ]
  },
  {
   "cell_type": "raw",
   "metadata": {},
   "source": [
    "X_train_full = data_full.iloc[:17250]\n",
    "X_test_full = data_full.iloc[17250:]"
   ]
  },
  {
   "cell_type": "raw",
   "metadata": {},
   "source": [
    "y_train_full = train_full_y.iloc[:17250]\n",
    "y_test_full = train_full_y.iloc[17250:]"
   ]
  },
  {
   "cell_type": "raw",
   "metadata": {},
   "source": [
    "X_train_full.shape, y_train_full.shape"
   ]
  },
  {
   "cell_type": "raw",
   "metadata": {},
   "source": [
    "categ_feat_idx = np.where(X_train_full.dtypes == 'object')[0]\n",
    "categ_feat_idx"
   ]
  },
  {
   "cell_type": "raw",
   "metadata": {},
   "source": [
    "X_full_part, X_full_valid, y_full_part, y_full_valid = train_test_split(X_train_full, y_train_full, \n",
    "                                                                test_size=0.3, \n",
    "                                                                random_state=17)"
   ]
  },
  {
   "cell_type": "raw",
   "metadata": {},
   "source": [
    "y_full_part.shape, X_full_part.shape"
   ]
  },
  {
   "cell_type": "raw",
   "metadata": {},
   "source": [
    "model_full = CatBoostRegressor(random_seed=17, silent=True, nan_mode = 'Forbidden')"
   ]
  },
  {
   "cell_type": "raw",
   "metadata": {},
   "source": [
    "%%time\n",
    "model_full.fit(X_full_part, y_full_part,\n",
    "        cat_features=categ_feat_idx, verbose = False);"
   ]
  },
  {
   "cell_type": "raw",
   "metadata": {},
   "source": [
    "ctb_valid_pred = model_full.predict(X_full_valid)"
   ]
  },
  {
   "cell_type": "raw",
   "metadata": {},
   "source": [
    "roc_auc_score(y_full_valid, ctb_valid_pred)"
   ]
  },
  {
   "cell_type": "raw",
   "metadata": {},
   "source": [
    "- базовая модель без преобразований составила 0.72\n",
    "- при добавлении финансовых показателей качество моделей возросла до 0.733"
   ]
  },
  {
   "cell_type": "raw",
   "metadata": {},
   "source": [
    "X_full_part.columns"
   ]
  },
  {
   "cell_type": "raw",
   "metadata": {},
   "source": [
    "model_full.feature_importances_"
   ]
  },
  {
   "cell_type": "markdown",
   "metadata": {},
   "source": [
    "#### Построение базовой модели для неполных данных"
   ]
  },
  {
   "cell_type": "code",
   "execution_count": 338,
   "metadata": {},
   "outputs": [],
   "source": [
    "X_train_null = data_null.iloc[:15145]\n",
    "X_test_null = data_null.iloc[15145:]"
   ]
  },
  {
   "cell_type": "code",
   "execution_count": 339,
   "metadata": {},
   "outputs": [],
   "source": [
    "y_train_null = train_null_y.iloc[:15145]\n",
    "y_test_null = train_null_y.iloc[15145:]"
   ]
  },
  {
   "cell_type": "code",
   "execution_count": 340,
   "metadata": {},
   "outputs": [
    {
     "data": {
      "text/plain": [
       "((15145, 10), (15145,))"
      ]
     },
     "execution_count": 340,
     "metadata": {},
     "output_type": "execute_result"
    }
   ],
   "source": [
    "X_train_null.shape, y_train_null.shape"
   ]
  },
  {
   "cell_type": "code",
   "execution_count": 341,
   "metadata": {},
   "outputs": [
    {
     "data": {
      "text/plain": [
       "array([4, 8, 9], dtype=int64)"
      ]
     },
     "execution_count": 341,
     "metadata": {},
     "output_type": "execute_result"
    }
   ],
   "source": [
    "categ_feat = np.where(X_train_null.dtypes == 'object')[0]\n",
    "categ_feat"
   ]
  },
  {
   "cell_type": "code",
   "execution_count": 342,
   "metadata": {},
   "outputs": [],
   "source": [
    "X_null_part, X_null_valid, y_null_part, y_null_valid = train_test_split(X_train_null, y_train_null, \n",
    "                                                                test_size=0.3, \n",
    "                                                                random_state=17)"
   ]
  },
  {
   "cell_type": "code",
   "execution_count": 343,
   "metadata": {},
   "outputs": [
    {
     "data": {
      "text/plain": [
       "((10601, 10), (10601,))"
      ]
     },
     "execution_count": 343,
     "metadata": {},
     "output_type": "execute_result"
    }
   ],
   "source": [
    "X_null_part.shape, y_null_part.shape"
   ]
  },
  {
   "cell_type": "code",
   "execution_count": 391,
   "metadata": {},
   "outputs": [],
   "source": [
    "model_null = CatBoostRegressor(random_seed=17, silent=True, nan_mode='Forbidden')"
   ]
  },
  {
   "cell_type": "code",
   "execution_count": 392,
   "metadata": {},
   "outputs": [
    {
     "name": "stdout",
     "output_type": "stream",
     "text": [
      "Wall time: 22.2 s\n"
     ]
    },
    {
     "data": {
      "text/plain": [
       "<catboost.core.CatBoostRegressor at 0x2788850e748>"
      ]
     },
     "execution_count": 392,
     "metadata": {},
     "output_type": "execute_result"
    }
   ],
   "source": [
    "%%time\n",
    "model_null.fit(X_null_part, y_null_part,\n",
    "        cat_features=categ_feat, verbose=False);"
   ]
  },
  {
   "cell_type": "code",
   "execution_count": 393,
   "metadata": {},
   "outputs": [],
   "source": [
    "ctb_valid_pred_null = model_null.predict(X_null_valid)"
   ]
  },
  {
   "cell_type": "code",
   "execution_count": 394,
   "metadata": {},
   "outputs": [
    {
     "data": {
      "text/plain": [
       "0.6544352980118109"
      ]
     },
     "execution_count": 394,
     "metadata": {},
     "output_type": "execute_result"
    }
   ],
   "source": [
    "roc_auc_score(y_null_valid, ctb_valid_pred_null)"
   ]
  },
  {
   "cell_type": "raw",
   "metadata": {},
   "source": [
    "+ baseline model equal to 0.62\n",
    "+ without record_id - 0.6535\n",
    "+ deleting bus_age do not change the model quality\n",
    "+ ogrn_age cat shift the quality to 0.655"
   ]
  },
  {
   "cell_type": "code",
   "execution_count": 395,
   "metadata": {},
   "outputs": [
    {
     "data": {
      "text/plain": [
       "Index(['ogrn_age', 'adr_actual_age', 'head_actual_age', 'cap_actual_age',\n",
       "       'ul_staff_range', 'ul_capital_sum', 'ul_founders_cnt', 'ul_branch_cnt',\n",
       "       'ogrn_age_cat', 'actual_cat'],\n",
       "      dtype='object')"
      ]
     },
     "execution_count": 395,
     "metadata": {},
     "output_type": "execute_result"
    }
   ],
   "source": [
    "X_null_part.columns"
   ]
  },
  {
   "cell_type": "code",
   "execution_count": 396,
   "metadata": {},
   "outputs": [
    {
     "data": {
      "text/plain": [
       "array([34.32451446,  9.76445701,  5.83100647,  6.3228982 ,  1.89580735,\n",
       "       24.37398267,  9.69043567,  0.08353828,  4.03774013,  3.67561975])"
      ]
     },
     "execution_count": 396,
     "metadata": {},
     "output_type": "execute_result"
    }
   ],
   "source": [
    "model_null.feature_importances_"
   ]
  },
  {
   "cell_type": "markdown",
   "metadata": {},
   "source": [
    "#### model_parameters validation"
   ]
  },
  {
   "cell_type": "code",
   "execution_count": 367,
   "metadata": {},
   "outputs": [],
   "source": [
    "CBC = CatBoostRegressor(cat_features=categ_feat)"
   ]
  },
  {
   "cell_type": "code",
   "execution_count": 386,
   "metadata": {},
   "outputs": [],
   "source": [
    "parameters = {'depth': [7], 'learning_rate': [0.1, 0.2, 0.3], 'iterations': [100, 1000]}"
   ]
  },
  {
   "cell_type": "code",
   "execution_count": 387,
   "metadata": {},
   "outputs": [],
   "source": [
    "from sklearn.model_selection import GridSearchCV\n",
    "Grid_CBC = GridSearchCV(estimator=CBC, param_grid = parameters, cv = 3, n_jobs=-1)"
   ]
  },
  {
   "cell_type": "code",
   "execution_count": 388,
   "metadata": {},
   "outputs": [
    {
     "name": "stdout",
     "output_type": "stream",
     "text": [
      "0:\tlearn: 0.2789974\ttotal: 9.22ms\tremaining: 913ms\n",
      "1:\tlearn: 0.2785966\ttotal: 18ms\tremaining: 883ms\n",
      "2:\tlearn: 0.2780916\ttotal: 33.8ms\tremaining: 1.09s\n",
      "3:\tlearn: 0.2777736\ttotal: 39.2ms\tremaining: 942ms\n",
      "4:\tlearn: 0.2774758\ttotal: 46.4ms\tremaining: 882ms\n",
      "5:\tlearn: 0.2772187\ttotal: 57.1ms\tremaining: 894ms\n",
      "6:\tlearn: 0.2769989\ttotal: 63.4ms\tremaining: 842ms\n",
      "7:\tlearn: 0.2767217\ttotal: 69.6ms\tremaining: 800ms\n",
      "8:\tlearn: 0.2766053\ttotal: 75.8ms\tremaining: 767ms\n",
      "9:\tlearn: 0.2763834\ttotal: 81.6ms\tremaining: 735ms\n",
      "10:\tlearn: 0.2762760\ttotal: 88.4ms\tremaining: 715ms\n",
      "11:\tlearn: 0.2761881\ttotal: 95.4ms\tremaining: 700ms\n",
      "12:\tlearn: 0.2759998\ttotal: 101ms\tremaining: 679ms\n",
      "13:\tlearn: 0.2758937\ttotal: 108ms\tremaining: 662ms\n",
      "14:\tlearn: 0.2757559\ttotal: 114ms\tremaining: 649ms\n",
      "15:\tlearn: 0.2756853\ttotal: 121ms\tremaining: 635ms\n",
      "16:\tlearn: 0.2755650\ttotal: 128ms\tremaining: 626ms\n",
      "17:\tlearn: 0.2754240\ttotal: 138ms\tremaining: 627ms\n",
      "18:\tlearn: 0.2753682\ttotal: 153ms\tremaining: 651ms\n",
      "19:\tlearn: 0.2752130\ttotal: 158ms\tremaining: 634ms\n",
      "20:\tlearn: 0.2750333\ttotal: 165ms\tremaining: 620ms\n",
      "21:\tlearn: 0.2748883\ttotal: 171ms\tremaining: 608ms\n",
      "22:\tlearn: 0.2748859\ttotal: 180ms\tremaining: 604ms\n",
      "23:\tlearn: 0.2748372\ttotal: 185ms\tremaining: 587ms\n",
      "24:\tlearn: 0.2747412\ttotal: 197ms\tremaining: 591ms\n",
      "25:\tlearn: 0.2747337\ttotal: 200ms\tremaining: 570ms\n",
      "26:\tlearn: 0.2746785\ttotal: 208ms\tremaining: 563ms\n",
      "27:\tlearn: 0.2746443\ttotal: 215ms\tremaining: 552ms\n",
      "28:\tlearn: 0.2746060\ttotal: 220ms\tremaining: 539ms\n",
      "29:\tlearn: 0.2745662\ttotal: 226ms\tremaining: 528ms\n",
      "30:\tlearn: 0.2745416\ttotal: 232ms\tremaining: 516ms\n",
      "31:\tlearn: 0.2744318\ttotal: 238ms\tremaining: 506ms\n",
      "32:\tlearn: 0.2743595\ttotal: 243ms\tremaining: 493ms\n",
      "33:\tlearn: 0.2743583\ttotal: 246ms\tremaining: 478ms\n",
      "34:\tlearn: 0.2743057\ttotal: 252ms\tremaining: 468ms\n",
      "35:\tlearn: 0.2742895\ttotal: 256ms\tremaining: 456ms\n",
      "36:\tlearn: 0.2742830\ttotal: 259ms\tremaining: 441ms\n",
      "37:\tlearn: 0.2741997\ttotal: 265ms\tremaining: 433ms\n",
      "38:\tlearn: 0.2741737\ttotal: 269ms\tremaining: 421ms\n",
      "39:\tlearn: 0.2741214\ttotal: 274ms\tremaining: 411ms\n",
      "40:\tlearn: 0.2741075\ttotal: 280ms\tremaining: 403ms\n",
      "41:\tlearn: 0.2741065\ttotal: 284ms\tremaining: 392ms\n",
      "42:\tlearn: 0.2740706\ttotal: 289ms\tremaining: 383ms\n",
      "43:\tlearn: 0.2740551\ttotal: 294ms\tremaining: 374ms\n",
      "44:\tlearn: 0.2740550\ttotal: 297ms\tremaining: 363ms\n",
      "45:\tlearn: 0.2740544\ttotal: 299ms\tremaining: 352ms\n",
      "46:\tlearn: 0.2740524\ttotal: 302ms\tremaining: 341ms\n",
      "47:\tlearn: 0.2740323\ttotal: 306ms\tremaining: 332ms\n",
      "48:\tlearn: 0.2740062\ttotal: 312ms\tremaining: 325ms\n",
      "49:\tlearn: 0.2739150\ttotal: 318ms\tremaining: 318ms\n",
      "50:\tlearn: 0.2738663\ttotal: 323ms\tremaining: 311ms\n",
      "51:\tlearn: 0.2737971\ttotal: 329ms\tremaining: 304ms\n",
      "52:\tlearn: 0.2737965\ttotal: 340ms\tremaining: 301ms\n",
      "53:\tlearn: 0.2737316\ttotal: 346ms\tremaining: 294ms\n",
      "54:\tlearn: 0.2736690\ttotal: 351ms\tremaining: 288ms\n",
      "55:\tlearn: 0.2736291\ttotal: 359ms\tremaining: 282ms\n",
      "56:\tlearn: 0.2736279\ttotal: 363ms\tremaining: 274ms\n",
      "57:\tlearn: 0.2736056\ttotal: 368ms\tremaining: 267ms\n",
      "58:\tlearn: 0.2736056\ttotal: 373ms\tremaining: 259ms\n",
      "59:\tlearn: 0.2736055\ttotal: 376ms\tremaining: 251ms\n",
      "60:\tlearn: 0.2735007\ttotal: 383ms\tremaining: 245ms\n",
      "61:\tlearn: 0.2734504\ttotal: 405ms\tremaining: 248ms\n",
      "62:\tlearn: 0.2734480\ttotal: 408ms\tremaining: 240ms\n",
      "63:\tlearn: 0.2733993\ttotal: 413ms\tremaining: 232ms\n",
      "64:\tlearn: 0.2733620\ttotal: 421ms\tremaining: 227ms\n",
      "65:\tlearn: 0.2733264\ttotal: 427ms\tremaining: 220ms\n",
      "66:\tlearn: 0.2733264\ttotal: 430ms\tremaining: 212ms\n",
      "67:\tlearn: 0.2733179\ttotal: 434ms\tremaining: 204ms\n",
      "68:\tlearn: 0.2733016\ttotal: 440ms\tremaining: 198ms\n",
      "69:\tlearn: 0.2732581\ttotal: 446ms\tremaining: 191ms\n",
      "70:\tlearn: 0.2732471\ttotal: 450ms\tremaining: 184ms\n",
      "71:\tlearn: 0.2731943\ttotal: 455ms\tremaining: 177ms\n",
      "72:\tlearn: 0.2731326\ttotal: 463ms\tremaining: 171ms\n",
      "73:\tlearn: 0.2730985\ttotal: 476ms\tremaining: 167ms\n",
      "74:\tlearn: 0.2730529\ttotal: 483ms\tremaining: 161ms\n",
      "75:\tlearn: 0.2730258\ttotal: 490ms\tremaining: 155ms\n",
      "76:\tlearn: 0.2730019\ttotal: 496ms\tremaining: 148ms\n",
      "77:\tlearn: 0.2729530\ttotal: 502ms\tremaining: 142ms\n",
      "78:\tlearn: 0.2729182\ttotal: 507ms\tremaining: 135ms\n",
      "79:\tlearn: 0.2729149\ttotal: 512ms\tremaining: 128ms\n",
      "80:\tlearn: 0.2729139\ttotal: 516ms\tremaining: 121ms\n",
      "81:\tlearn: 0.2728737\ttotal: 521ms\tremaining: 114ms\n",
      "82:\tlearn: 0.2728551\ttotal: 527ms\tremaining: 108ms\n",
      "83:\tlearn: 0.2728071\ttotal: 533ms\tremaining: 101ms\n",
      "84:\tlearn: 0.2727768\ttotal: 539ms\tremaining: 95.1ms\n",
      "85:\tlearn: 0.2727481\ttotal: 546ms\tremaining: 88.9ms\n",
      "86:\tlearn: 0.2727012\ttotal: 553ms\tremaining: 82.6ms\n",
      "87:\tlearn: 0.2726440\ttotal: 561ms\tremaining: 76.4ms\n",
      "88:\tlearn: 0.2725769\ttotal: 567ms\tremaining: 70.1ms\n",
      "89:\tlearn: 0.2725510\ttotal: 573ms\tremaining: 63.7ms\n",
      "90:\tlearn: 0.2725192\ttotal: 580ms\tremaining: 57.4ms\n",
      "91:\tlearn: 0.2724124\ttotal: 586ms\tremaining: 51ms\n",
      "92:\tlearn: 0.2723367\ttotal: 592ms\tremaining: 44.6ms\n",
      "93:\tlearn: 0.2723307\ttotal: 598ms\tremaining: 38.2ms\n",
      "94:\tlearn: 0.2723122\ttotal: 604ms\tremaining: 31.8ms\n",
      "95:\tlearn: 0.2722703\ttotal: 611ms\tremaining: 25.5ms\n",
      "96:\tlearn: 0.2722265\ttotal: 617ms\tremaining: 19.1ms\n",
      "97:\tlearn: 0.2720947\ttotal: 625ms\tremaining: 12.8ms\n",
      "98:\tlearn: 0.2720819\ttotal: 629ms\tremaining: 6.36ms\n",
      "99:\tlearn: 0.2719624\ttotal: 636ms\tremaining: 0us\n"
     ]
    },
    {
     "data": {
      "text/plain": [
       "GridSearchCV(cv=3,\n",
       "             estimator=<catboost.core.CatBoostRegressor object at 0x00000278892663C8>,\n",
       "             n_jobs=-1,\n",
       "             param_grid={'depth': [7], 'iterations': [100, 1000],\n",
       "                         'learning_rate': [0.1, 0.2, 0.3]})"
      ]
     },
     "execution_count": 388,
     "metadata": {},
     "output_type": "execute_result"
    }
   ],
   "source": [
    "Grid_CBC.fit(X_null_part, y_null_part)"
   ]
  },
  {
   "cell_type": "code",
   "execution_count": 389,
   "metadata": {},
   "outputs": [
    {
     "name": "stdout",
     "output_type": "stream",
     "text": [
      " Results from Grid Search \n",
      "\n",
      " The best estimator across ALL searched params:\n",
      " <catboost.core.CatBoostRegressor object at 0x000002788843CF98>\n",
      "\n",
      " The best score across ALL searched params:\n",
      " 0.021765214575576824\n",
      "\n",
      " The best parameters across ALL searched params:\n",
      " {'depth': 7, 'iterations': 100, 'learning_rate': 0.1}\n"
     ]
    }
   ],
   "source": [
    "print(\" Results from Grid Search \" )\n",
    "print(\"\\n The best estimator across ALL searched params:\\n\",Grid_CBC.best_estimator_)\n",
    "print(\"\\n The best score across ALL searched params:\\n\",Grid_CBC.best_score_)\n",
    "print(\"\\n The best parameters across ALL searched params:\\n\",Grid_CBC.best_params_)"
   ]
  },
  {
   "cell_type": "markdown",
   "metadata": {},
   "source": [
    "#### экспорт результатов"
   ]
  },
  {
   "cell_type": "code",
   "execution_count": 397,
   "metadata": {},
   "outputs": [
    {
     "name": "stderr",
     "output_type": "stream",
     "text": [
      "C:\\Users\\Rollan\\Miniconda3\\lib\\site-packages\\ipykernel_launcher.py:15: FutureWarning: The signature of `Series.to_csv` was aligned to that of `DataFrame.to_csv`, and argument 'header' will change its default value from False to True: please pass an explicit value to suppress this warning.\n",
      "  from ipykernel import kernelapp as app\n"
     ]
    }
   ],
   "source": [
    "cutoff_NN = model_full.predict(X_test_full)\n",
    "cutoff_NN = sorted(cutoff_NN)[45]\n",
    "predict  = (model_full.predict(X_test_full) >= cutoff_NN).astype(int)\n",
    "\n",
    "cutoff_null = model_null.predict(X_test_null)\n",
    "cutoff_null = sorted(cutoff_null)[54]\n",
    "predict_null  = (model_null.predict(X_test_null)>= cutoff_null).astype(int)\n",
    "\n",
    "test_full['predict'] = predict\n",
    "test_null['predict'] = predict_null\n",
    "\n",
    "answ_df = pd.concat([test_full['predict'], test_null['predict']])\n",
    "answ_df.index.name = 'id'\n",
    "answ_df.sort_index(inplace=True)\n",
    "answ_df.to_csv('PD-submit.csv', index=True, sep=';')"
   ]
  },
  {
   "cell_type": "code",
   "execution_count": null,
   "metadata": {},
   "outputs": [],
   "source": []
  }
 ],
 "metadata": {
  "kernelspec": {
   "display_name": "Python 3",
   "language": "python",
   "name": "python3"
  },
  "language_info": {
   "codemirror_mode": {
    "name": "ipython",
    "version": 3
   },
   "file_extension": ".py",
   "mimetype": "text/x-python",
   "name": "python",
   "nbconvert_exporter": "python",
   "pygments_lexer": "ipython3",
   "version": "3.7.3"
  }
 },
 "nbformat": 4,
 "nbformat_minor": 2
}
